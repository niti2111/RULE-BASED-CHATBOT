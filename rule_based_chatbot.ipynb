{
  "nbformat": 4,
  "nbformat_minor": 0,
  "metadata": {
    "colab": {
      "provenance": [],
      "authorship_tag": "ABX9TyMSaFL7OkQoU4F72XbvUIGK",
      "include_colab_link": true
    },
    "kernelspec": {
      "name": "python3",
      "display_name": "Python 3"
    },
    "language_info": {
      "name": "python"
    }
  },
  "cells": [
    {
      "cell_type": "markdown",
      "metadata": {
        "id": "view-in-github",
        "colab_type": "text"
      },
      "source": [
        "<a href=\"https://colab.research.google.com/github/niti2111/RULE-BASED-CHATBOT/blob/main/rule_based_chatbot.ipynb\" target=\"_parent\"><img src=\"https://colab.research.google.com/assets/colab-badge.svg\" alt=\"Open In Colab\"/></a>"
      ]
    },
    {
      "cell_type": "code",
      "execution_count": null,
      "metadata": {
        "id": "0mZ5LJ04ebK0"
      },
      "outputs": [],
      "source": [
        "import re\n",
        "import random"
      ]
    },
    {
      "cell_type": "code",
      "source": [
        "class Chatbot:\n",
        "    ### potential Negative responses\n",
        "    negative_responses = {\"no\", \"nope\", \"nah\", \"naw\", \"not a chance\", \"sorry\", \"not\", \"dont\", \"do not\", \"anyway\", \"shit\"}\n",
        "    #### exit commands\n",
        "    exit_commands = {\"quit\", \"pause\", \"exit\", \"goodbye\", \"bye\", \"later\", \"thanks\", \"thank you\",\"okay\",\"ok\"}\n",
        "    ### random starter questions\n",
        "    random_questions = [\n",
        "        \"What can I do for you?\\n\",\n",
        "        \"How can I help you?\\n\",\n",
        "        \"How may I help you?\\n\",\n",
        "        \"How have you been recently?\\n\",\n",
        "        \"Would you like me to look at it?\\n\",\n",
        "        \"Ooh, I see?\\n\",\n",
        "    ]\n",
        "\n",
        "    def __init__(self):\n",
        "        self.allienable = {\n",
        "            'customer_requirement': r'.*\\s*requirement.*',\n",
        "            'answer_requirement': r'.*\\s*solution.*',\n",
        "            'product_details': r'.*\\s*details',\n",
        "        }\n",
        "\n",
        "    def greet(self):\n",
        "        self.name = input(\"HELLO! May I know your name?\\n\")\n",
        "        will_help = input(f\"Hi {self.name}, I am a chatbot. Can I assist you?\\n\")\n",
        "        if will_help.lower() in self.negative_responses:\n",
        "            print(\"Ok, have a nice day!\")\n",
        "            return\n",
        "        self.chat()\n",
        "\n",
        "    def make_exit(self, reply):\n",
        "        for command in self.exit_commands:\n",
        "            if command in reply:  # Check if any exit command is a substring\n",
        "                print(\"Have a nice day!\")\n",
        "                return True\n",
        "        return False\n",
        "\n",
        "    def chat(self):\n",
        "        reply = input(random.choice(self.random_questions)).lower()\n",
        "        while not self.make_exit(reply):\n",
        "            reply = input(self.match_reply(reply)).lower()\n",
        "\n",
        "    def match_reply(self, reply):\n",
        "        for key, regex_pattern in self.allienable.items():\n",
        "            found_match = re.search(regex_pattern, reply)  # Changed to re.search for better pattern matching\n",
        "            if found_match:\n",
        "                if key == 'customer_requirement':\n",
        "                    return self.customer_requirement()\n",
        "                elif key == 'answer_requirement':\n",
        "                    return self.answer_requirement()\n",
        "                elif key == 'product_details':\n",
        "                    return self.product_details()\n",
        "        return self.no_match_intent()\n",
        "\n",
        "    def customer_requirement(self):\n",
        "        responses = [\n",
        "            \"Here are the details of your product.\\n\",\n",
        "            \"We are processing your request.\\n\",\n",
        "            \"Sure, we are on it!\\n\"\n",
        "        ]\n",
        "        return random.choice(responses)\n",
        "\n",
        "    def answer_requirement(self):\n",
        "        responses = [\n",
        "            \"Yes! Your product is ready for shipment.\\n\",\n",
        "            \"There seems to be an issue with the product.\\n\",\n",
        "            \"We are processing your payment.\\n\"\n",
        "        ]\n",
        "        return random.choice(responses)\n",
        "\n",
        "    def product_details(self):\n",
        "        responses = [\n",
        "            \"Your order is an Apple iPhone 16, which is to be delivered by next week.\\n\",\n",
        "            \"Your order is a OnePlus Nord CE.\\n\",\n",
        "            \"Your order is OnePlus Buds 2.\\n\"\n",
        "        ]\n",
        "        return random.choice(responses)\n",
        "\n",
        "    def no_match_intent(self):\n",
        "        responses = [\n",
        "            \"What issue do you face?\\n\",\n",
        "            \"What could be the reason?\\n\",\n",
        "            \"Sure, let me look into it.\\n\",\n",
        "            \"I see. Can you elaborate?\\n\",\n",
        "            \"Can you tell me more?\\n\",\n",
        "            \"I see. How do you think?\\n\",\n",
        "            \"Why?\\n\",\n",
        "            \"How do you think I feel when you say that?\\n\"\n",
        "        ]\n",
        "        return random.choice(responses)\n",
        "\n",
        "AlienBot = Chatbot()\n",
        "AlienBot.greet()"
      ],
      "metadata": {
        "colab": {
          "base_uri": "https://localhost:8080/"
        },
        "id": "LrpwWfLle35p",
        "outputId": "696f77e9-cdb9-4b0f-cfbf-2acd13c4d0a4"
      },
      "execution_count": null,
      "outputs": [
        {
          "output_type": "stream",
          "name": "stdout",
          "text": [
            "HELLO! May I know your name?\n",
            "niti\n",
            "Hi niti, I am a chatbot. Can I assist you?\n",
            "yes\n",
            "Ooh, I see?\n",
            "product details\n",
            "Your order is OnePlus Buds 2.\n",
            "sure\n",
            "I see. How do you think?\n",
            "ok\n",
            "Have a nice day!\n"
          ]
        }
      ]
    }
  ]
}